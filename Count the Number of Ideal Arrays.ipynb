{
 "cells": [
  {
   "cell_type": "code",
   "execution_count": null,
   "id": "d1abef02",
   "metadata": {
    "vscode": {
     "languageId": "plaintext"
    }
   },
   "outputs": [],
   "source": [
    "# Count the Number of Ideal Arrays\n",
    "class Solution:\n",
    "    MOD = 10**9 + 7\n",
    "\n",
    "    def idealArrays(self, n: int, maxValue: int) -> int:\n",
    "        # 1) Sieve for smallest prime divisor\n",
    "        mind = [0] * (maxValue + 1)\n",
    "        for p in range(2, maxValue + 1):\n",
    "            if mind[p] == 0:\n",
    "                for i in range(p, maxValue + 1, p):\n",
    "                    if mind[i] == 0:\n",
    "                        mind[i] = p\n",
    "\n",
    "        # 2) Precompute binomial coefficients C(n+i-1, i) for i up to log2(maxValue)\n",
    "        maxPow = int(log2(maxValue)) + 1\n",
    "        C = [1] * (maxPow + 1)\n",
    "        for i in range(1, maxPow + 1):\n",
    "            C[i] = comb(n + i - 1, i) % self.MOD\n",
    "\n",
    "        # 3) For each value i, factorize via mind[] and multiply the counts of partitions\n",
    "        ans = 0\n",
    "        for i in range(1, maxValue + 1):\n",
    "            x, prod = i, 1\n",
    "            while x > 1:\n",
    "                p, exp = mind[x], 0\n",
    "                while x % p == 0:\n",
    "                    x //= p\n",
    "                    exp += 1\n",
    "                prod = prod * C[exp] % self.MOD\n",
    "            ans = (ans + prod) % self.MOD\n",
    "\n",
    "        return ans"
   ]
  }
 ],
 "metadata": {
  "kernelspec": {
   "display_name": "Python 3 (ipykernel)",
   "language": "python",
   "name": "python3"
  },
  "language_info": {
   "codemirror_mode": {
    "name": "ipython",
    "version": 3
   },
   "file_extension": ".py",
   "mimetype": "text/x-python",
   "name": "python",
   "nbconvert_exporter": "python",
   "pygments_lexer": "ipython3",
   "version": "3.12.4"
  }
 },
 "nbformat": 4,
 "nbformat_minor": 5
}
